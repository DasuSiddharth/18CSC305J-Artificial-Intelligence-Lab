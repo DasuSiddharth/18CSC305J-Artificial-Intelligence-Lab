{
  "cells": [
    {
      "cell_type": "markdown",
      "metadata": {
        "id": "view-in-github",
        "colab_type": "text"
      },
      "source": [
        "<a href=\"https://colab.research.google.com/github/DasuSiddharth/18CSC305J-Artificial-Intelligence-Lab/blob/main/Nqueens.ipynb\" target=\"_parent\"><img src=\"https://colab.research.google.com/assets/colab-badge.svg\" alt=\"Open In Colab\"/></a>"
      ]
    },
    {
      "cell_type": "code",
      "execution_count": 3,
      "metadata": {
        "colab": {
          "base_uri": "https://localhost:8080/"
        },
        "id": "gPK_98lcIInj",
        "outputId": "2e8cfdb2-c726-4083-a1fb-e7883e692ad1"
      },
      "outputs": [
        {
          "output_type": "stream",
          "name": "stdout",
          "text": [
            "0 0 1 0 \n",
            "1 0 0 0 \n",
            "0 0 0 1 \n",
            "0 1 0 0 \n"
          ]
        },
        {
          "output_type": "execute_result",
          "data": {
            "text/plain": [
              "True"
            ]
          },
          "metadata": {},
          "execution_count": 3
        }
      ],
      "source": [
        "global N\n",
        "N = 4\n",
        "\n",
        "def printSolution(board):\n",
        "  for i in range(N):\n",
        "    for j in range(N):\n",
        "      print(board[i][j], end=' ')\n",
        "    print(end='\\n')\n",
        "\n",
        "\n",
        "\n",
        "def isSafe(board, row, col):\n",
        "\n",
        "\tfor i in range(col):\n",
        "\t\tif board[row][i] == 1:\n",
        "\t\t\treturn False\n",
        "\n",
        "\t\n",
        "\tfor i, j in zip(range(row, -1, -1), range(col, -1, -1)):\n",
        "\t\tif board[i][j] == 1:\n",
        "\t\t\treturn False\n",
        "\n",
        "\tfor i, j in zip(range(row, N, 1), range(col, -1, -1)):\n",
        "\t\tif board[i][j] == 1:\n",
        "\t\t\treturn False\n",
        "\n",
        "\treturn True\n",
        "\n",
        "def solveNQUtil(board, col):\n",
        "\t\n",
        "\tif col >= N:\n",
        "\t\treturn True\n",
        "\n",
        "\n",
        "\tfor i in range(N):\n",
        "\n",
        "\t\tif isSafe(board, i, col):\n",
        "\t\t\n",
        "\t\t\tboard[i][col] = 1\n",
        "\n",
        "\t\t\n",
        "\t\t\tif solveNQUtil(board, col + 1) == True:\n",
        "\t\t\t\treturn True\n",
        "\n",
        "\t\t\t\n",
        "\t\t\tboard[i][col] = 0\n",
        "\n",
        "\n",
        "\treturn False\n",
        "\n",
        "\n",
        "def solveNQueen():\n",
        "\tboard = [ [0, 0, 0, 0],\n",
        "\t\t\t[0, 0, 0, 0],\n",
        "\t\t\t[0, 0, 0, 0],\n",
        "\t\t\t[0, 0, 0, 0],\n",
        "      [0, 0, 0, 0]\n",
        "\t\t\t]\n",
        "\n",
        "\tif solveNQUtil(board, 0) == False:\n",
        "\t\tprint(\"Solution does not exist\")\n",
        "\t\treturn False\n",
        "\n",
        "\tprintSolution(board)\n",
        "\treturn True\n",
        "\n",
        "\n",
        "solveNQueen()"
      ]
    }
  ],
  "metadata": {
    "colab": {
      "name": "Nqueens.ipynb",
      "provenance": [],
      "authorship_tag": "ABX9TyMHrrvrX8OlicDUMHymEgkh",
      "include_colab_link": true
    },
    "kernelspec": {
      "display_name": "Python 3",
      "name": "python3"
    },
    "language_info": {
      "name": "python"
    }
  },
  "nbformat": 4,
  "nbformat_minor": 0
}