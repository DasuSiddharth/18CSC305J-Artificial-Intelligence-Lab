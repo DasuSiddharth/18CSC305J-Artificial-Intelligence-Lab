{
  "nbformat": 4,
  "nbformat_minor": 0,
  "metadata": {
    "colab": {
      "name": "bfs_og.py",
      "provenance": [],
      "collapsed_sections": [],
      "authorship_tag": "ABX9TyN5d9oVIKyrlF+nIhqWZyvU",
      "include_colab_link": true
    },
    "kernelspec": {
      "name": "python3",
      "display_name": "Python 3"
    },
    "language_info": {
      "name": "python"
    }
  },
  "cells": [
    {
      "cell_type": "markdown",
      "metadata": {
        "id": "view-in-github",
        "colab_type": "text"
      },
      "source": [
        "<a href=\"https://colab.research.google.com/github/DasuSiddharth/18CSC305J-Artificial-Intelligence-Lab/blob/main/bfs_og_py.ipynb\" target=\"_parent\"><img src=\"https://colab.research.google.com/assets/colab-badge.svg\" alt=\"Open In Colab\"/></a>"
      ]
    },
    {
      "cell_type": "code",
      "execution_count": 1,
      "metadata": {
        "colab": {
          "base_uri": "https://localhost:8080/"
        },
        "id": "Jbs9nbJ68gXi",
        "outputId": "f2304e1d-62ae-4657-ba6f-9ec521c98443"
      },
      "outputs": [
        {
          "output_type": "stream",
          "name": "stdout",
          "text": [
            "the following is the bfs\n",
            "2 4 1 3 5 "
          ]
        }
      ],
      "source": [
        "graph = { \n",
        "'1':['2','3'],\n",
        "'2':['4','1'],\n",
        "'3':['5','1'],\n",
        "'4':['2'],\n",
        "'5':['3']}\n",
        "visited=[]\n",
        "queue=[]\n",
        "def bfs(visited, graph, node):\n",
        "    visited.append(node)\n",
        "    queue.append(node)\n",
        "    while queue:\n",
        "        m= queue.pop(0)\n",
        "        print(m, end=\" \")\n",
        "        for neighbour in graph[m]:\n",
        "            if neighbour not in visited:\n",
        "                visited.append(neighbour)\n",
        "                queue.append(neighbour)\n",
        "print(\"the following is the bfs\")\n",
        "bfs(visited, graph, '2')"
      ]
    }
  ]
}