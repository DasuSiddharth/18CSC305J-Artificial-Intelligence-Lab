{
  "nbformat": 4,
  "nbformat_minor": 0,
  "metadata": {
    "colab": {
      "name": "Copy of dfs.ipynb",
      "provenance": [],
      "authorship_tag": "ABX9TyMeYNedrIUfc6MwnNtma6rH",
      "include_colab_link": true
    },
    "kernelspec": {
      "name": "python3",
      "display_name": "Python 3"
    },
    "language_info": {
      "name": "python"
    }
  },
  "cells": [
    {
      "cell_type": "markdown",
      "metadata": {
        "id": "view-in-github",
        "colab_type": "text"
      },
      "source": [
        "<a href=\"https://colab.research.google.com/github/DasuSiddharth/18CSC305J-Artificial-Intelligence-Lab/blob/main/Copy_of_dfs.ipynb\" target=\"_parent\"><img src=\"https://colab.research.google.com/assets/colab-badge.svg\" alt=\"Open In Colab\"/></a>"
      ]
    },
    {
      "cell_type": "code",
      "execution_count": null,
      "metadata": {
        "colab": {
          "base_uri": "https://localhost:8080/"
        },
        "id": "RZ9WfKr-9DXo",
        "outputId": "bad3292f-cad0-46b9-d8fd-5ddff43934f3"
      },
      "outputs": [
        {
          "output_type": "stream",
          "name": "stdout",
          "text": [
            "dfs\n",
            "1 2 4 3 5 "
          ]
        }
      ],
      "source": [
        "graph = { \n",
        "'1':['2','3'],\n",
        "'2':['4','1'],\n",
        "'3':['5','1'],\n",
        "'4':['2'],\n",
        "'5':['3']}\n",
        "visited = set()\n",
        "def dfs(visited, graph, node):\n",
        "    if node not in visited:\n",
        "        print(node, end=\" \")\n",
        "        visited.add(node)\n",
        "        for neighbour in graph[node]:\n",
        "            dfs(visited, graph, neighbour)\n",
        "print(\"dfs\")\n",
        "dfs(visited, graph, '1')"
      ]
    }
  ]
}